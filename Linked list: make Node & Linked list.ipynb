{
  "nbformat": 4,
  "nbformat_minor": 0,
  "metadata": {
    "colab": {
      "name": "Untitled19.ipynb",
      "provenance": [],
      "collapsed_sections": [],
      "authorship_tag": "ABX9TyMNs2s172AgFK+CxtDlsBlN",
      "include_colab_link": true
    },
    "kernelspec": {
      "name": "python3",
      "display_name": "Python 3"
    },
    "language_info": {
      "name": "python"
    }
  },
  "cells": [
    {
      "cell_type": "markdown",
      "metadata": {
        "id": "view-in-github",
        "colab_type": "text"
      },
      "source": [
        "<a href=\"https://colab.research.google.com/github/jisu9414/Data-structure/blob/main/Linked%20list%3A%20make%20Node%20%26%20Linked%20list.ipynb\" target=\"_parent\"><img src=\"https://colab.research.google.com/assets/colab-badge.svg\" alt=\"Open In Colab\"/></a>"
      ]
    },
    {
      "cell_type": "code",
      "execution_count": 51,
      "metadata": {
        "colab": {
          "base_uri": "https://localhost:8080/"
        },
        "id": "t7ouNonPki-s",
        "outputId": "8652a3a5-5a07-42f6-c9f8-72add306e7ab"
      },
      "outputs": [
        {
          "output_type": "stream",
          "name": "stdout",
          "text": [
            "head is reference of head node: <__main__.Node object at 0x7fc38ca93c50>\n",
            "linked list num is 4\n",
            "linked list len is 4\n",
            "head node date: 1\n",
            "head node's pointer to head.next: <__main__.Node object at 0x7fc38ca7fc10>\n",
            "head node date: 2\n",
            "head node's pointer to head.next: <__main__.Node object at 0x7fc38ca7f910>\n",
            "head node date: 3\n",
            "head node's pointer to head.next.next: <__main__.Node object at 0x7fc38ca7f550>\n",
            "head node date: 4\n",
            "head node's pointer to head.next: <__main__.Node object at 0x7fc38ca7f190>\n"
          ]
        }
      ],
      "source": [
        "from __future__ import annotations\n",
        "from typing import Any, Type\n",
        "\n",
        "class Node:\n",
        "\n",
        "    def __init__(self, data: Any = None, next: Node = None):        #initialize\n",
        "        self.data = data\n",
        "        self.next = next\n",
        "\n",
        "    \n",
        "class LinkedList:               # make blank linked list(연결리스트): no node\n",
        "\n",
        "    def __init__(self) -> None:     #initialize\n",
        "        self.no = 0                 #node num\n",
        "        self.head = None            #head node != head: head는 head node의 reference 일 뿐\n",
        "        self.curent = None          #current node: 현재 삭제 및 삽입할 노드\n",
        "\n",
        "    #head is None: linked list가 blank?\n",
        "    #head.next is None: linked list의 NODE가 1개?\n",
        "    #head.next.next is None: node가 2개?\n",
        "    #p.next is None: p가 reference하는 node가 tail node인가? \n",
        "\n",
        "    def __len__(self) -> int:\n",
        "        return self.no              #len()으로 사용 가능\n",
        "\n",
        "if __name__ == '__main__':\n",
        "    head = Node(None, Ll.head)\n",
        "    Ll = LinkedList()\n",
        "\n",
        "    Ll.no = 4\n",
        "    Ll.head = Node(1, Node(2, Node(3, Node(4, Node(4, None)))))\n",
        "\n",
        "\n",
        "    print(f'head is reference of head node: {head}')\n",
        "    print(f'linked list num is {Ll.no}')\n",
        "    print(f'linked list len is {len(Ll)}')\n",
        "\n",
        "    print(f'head node date: {Ll.head.data}')\n",
        "    print(f\"head node's pointer to head.next: {Ll.head}\")\n",
        "\n",
        "    print(f'head node date: {Ll.head.next.data}')\n",
        "    print(f\"head node's pointer to head.next: {Ll.head.next}\")\n",
        "\n",
        "    print(f'head node date: {Ll.head.next.next.data}')\n",
        "    print(f\"head node's pointer to head.next.next: {Ll.head.next.next}\")\n",
        "\n",
        "    print(f'head node date: {Ll.head.next.next.next.data}')\n",
        "    print(f\"head node's pointer to head.next: {Ll.head.next.next.next}\")\n"
      ]
    }
  ]
}