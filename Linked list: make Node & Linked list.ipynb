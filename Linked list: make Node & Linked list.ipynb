{
  "nbformat": 4,
  "nbformat_minor": 0,
  "metadata": {
    "colab": {
      "name": "Untitled21.ipynb",
      "provenance": [],
      "collapsed_sections": [],
      "authorship_tag": "ABX9TyMik+n08n4wSRE0fJNzxGAs",
      "include_colab_link": true
    },
    "kernelspec": {
      "name": "python3",
      "display_name": "Python 3"
    },
    "language_info": {
      "name": "python"
    }
  },
  "cells": [
    {
      "cell_type": "markdown",
      "metadata": {
        "id": "view-in-github",
        "colab_type": "text"
      },
      "source": [
        "<a href=\"https://colab.research.google.com/github/jisu9414/Data-structure/blob/main/Linked%20list%3A%20make%20Node%20%26%20Linked%20list.ipynb\" target=\"_parent\"><img src=\"https://colab.research.google.com/assets/colab-badge.svg\" alt=\"Open In Colab\"/></a>"
      ]
    },
    {
      "cell_type": "code",
      "execution_count": 20,
      "metadata": {
        "colab": {
          "base_uri": "https://localhost:8080/"
        },
        "id": "2ah9o6KW2Mgo",
        "outputId": "59cf7af7-bef9-4985-b43f-0ee5a17269d3"
      },
      "outputs": [
        {
          "output_type": "stream",
          "name": "stdout",
          "text": [
            "linked list len is 4 \n",
            "\n",
            "head node data(Node A): 1\n",
            "*.next node's pointer: <__main__.Node object at 0x7f372fa01ad0> \n",
            "\n",
            "Node B's data: 2\n",
            "*.next node's pointer:: <__main__.Node object at 0x7f372fa01e10> \n",
            "\n",
            "Node C's data: 3\n",
            "*.next node's pointer:: <__main__.Node object at 0x7f372bed4450> \n",
            "\n",
            "tail node(Node D)'s data: 4\n",
            "*.next node's pointer:: <__main__.Node object at 0x7f372bed42d0>\n"
          ]
        }
      ],
      "source": [
        "from __future__ import annotations\n",
        "from typing import Any, Type\n",
        "\n",
        "class Node:\n",
        "\n",
        "    def __init__(self, data: Any = None, next: Node = None):        #initialize\n",
        "        self.data = data\n",
        "        self.next = next\n",
        "\n",
        "    \n",
        "class LinkedList:               # make blank linked list(연결리스트): no node\n",
        "\n",
        "    def __init__(self) -> None:     #initialize\n",
        "        self.no = 0                 #node num\n",
        "        self.head = None            #head node != head: head는 head node의 reference 일 뿐\n",
        "        self.current = None          #current node: 현재 주목할(삭제 및 삽입할 노드)의 pointer\n",
        "\n",
        "    #head is None: linked list가 blank?\n",
        "    #head.next is None: linked list의 NODE가 1개?\n",
        "    #head.next.next is None: node가 2개?\n",
        "    #p.next is None: p가 reference하는 node가 tail node인가? \n",
        "\n",
        "    def __len__(self) -> int:\n",
        "        return self.no              #len()으로 사용 가능\n",
        "\n",
        "if __name__ == '__main__':\n",
        "    Ll = LinkedList()\n",
        "\n",
        "    Ll.no = 4\n",
        "\n",
        "    Ll.head = Node(None, Node(1, Node(2, Node(3, Node(4, Node(4, None))))))\n",
        "\n",
        "    print(f'linked list len is {len(Ll)}', '\\n')\n",
        "\n",
        "    print(f'head node data(Node A): {Ll.head.next.data}')                      # Node 1 : head node\n",
        "    print(f\"*.next node's pointer: {Ll.head.next}\", '\\n')        \n",
        "\n",
        "    print(f\"Node B's data: {Ll.head.next.next.data}\")                          # Node 2\n",
        "    print(f\"*.next node's pointer:: {Ll.head.next.next}\", '\\n')\n",
        "\n",
        "    print(f\"Node C's data: {Ll.head.next.next.next.data}\")                     # Node 3\n",
        "    print(f\"*.next node's pointer:: {Ll.head.next.next.next}\", '\\n')\n",
        "\n",
        "    print(f\"tail node(Node D)'s data: {Ll.head.next.next.next.next.data}\")     # Node 4 ; tail node\n",
        "    print(f\"*.next node's pointer:: {Ll.head.next.next.next.next}\")"
      ]
    }
  ]
}