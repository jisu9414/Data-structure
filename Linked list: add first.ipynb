{
  "nbformat": 4,
  "nbformat_minor": 0,
  "metadata": {
    "colab": {
      "name": "Untitled19.ipynb",
      "provenance": [],
      "collapsed_sections": [],
      "authorship_tag": "ABX9TyONZrfBGixRoEB9rl+ZQgdE",
      "include_colab_link": true
    },
    "kernelspec": {
      "name": "python3",
      "display_name": "Python 3"
    },
    "language_info": {
      "name": "python"
    }
  },
  "cells": [
    {
      "cell_type": "markdown",
      "metadata": {
        "id": "view-in-github",
        "colab_type": "text"
      },
      "source": [
        "<a href=\"https://colab.research.google.com/github/jisu9414/Data-structure/blob/main/Linked%20list%3A%20add%20first.ipynb\" target=\"_parent\"><img src=\"https://colab.research.google.com/assets/colab-badge.svg\" alt=\"Open In Colab\"/></a>"
      ]
    },
    {
      "cell_type": "code",
      "execution_count": null,
      "metadata": {
        "colab": {
          "base_uri": "https://localhost:8080/"
        },
        "id": "t7ouNonPki-s",
        "outputId": "a1d51e49-9c2e-4349-c026-b0e7d5a142fe"
      },
      "outputs": [
        {
          "output_type": "stream",
          "name": "stdout",
          "text": [
            "Ll.no: 4\n",
            "4\n",
            "4\n",
            "add data at first: 9\n",
            "[9, 1, 2, 3, 4] \n",
            "\n",
            "add data at first: 8\n",
            "[8, 9, 1, 2, 3, 4] \n",
            "\n",
            "add data at first: 7\n",
            "[7, 8, 9, 1, 2, 3, 4] \n",
            "\n",
            "add data at first: 6\n",
            "[6, 7, 8, 9, 1, 2, 3, 4] \n",
            "\n",
            "add data at first: 9\n",
            "[9, 6, 7, 8, 9, 1, 2, 3, 4] \n",
            "\n"
          ]
        }
      ],
      "source": [
        "from __future__ import annotations\n",
        "from typing import Any, Type\n",
        "\n",
        "class Node:\n",
        "\n",
        "    def __init__(self, data: Any = None, next: Node = None):        #initialize\n",
        "        self.data = data\n",
        "        self.next = next\n",
        "  \n",
        "class LinkedList:               \n",
        "\n",
        "    def __init__(self) -> None:    \n",
        "        self.no = 0                 \n",
        "        self.head = None            \n",
        "        self.curent = None          \n",
        "\n",
        "    def add_first(self, data: Any) -> None:\n",
        "        ptr = self.head\n",
        "        self.head = self.current = Node(data, ptr)\n",
        "        self.no += 1\n",
        "\n",
        "    def __len__(self) -> int:\n",
        "       return self.no \n",
        "\n",
        "    def print_all_data(self) -> Any:\n",
        "        all_data = []\n",
        "        ptr = self.head\n",
        "\n",
        "        while ptr is not None:\n",
        "            self.current = ptr\n",
        "            all_data.append(ptr.data)\n",
        "            ptr = ptr.next\n",
        "\n",
        "        return all_data\n",
        "\n",
        "\n",
        "if __name__ == '__main__':\n",
        "    Ll = LinkedList()\n",
        "\n",
        "    Ll.no = int(input('Ll.no: '))\n",
        "    head = Node(None, Ll.head)\n",
        "    Ll.head = Node(1, Node(2, Node(3, Node(4, None))))\n",
        "\n",
        "    print(len(Ll))\n",
        "    print(Ll.no)\n",
        "\n",
        "    while True:\n",
        "        add_data_first = int(input('add data at first: '))\n",
        "        Ll.add_first(add_data_first)\n",
        "        print(Ll.print_all_data(), '\\n')\n"
      ]
    }
  ]
}