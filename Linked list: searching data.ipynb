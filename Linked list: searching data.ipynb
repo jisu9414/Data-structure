{
  "nbformat": 4,
  "nbformat_minor": 0,
  "metadata": {
    "colab": {
      "name": "Untitled19.ipynb",
      "provenance": [],
      "collapsed_sections": [],
      "authorship_tag": "ABX9TyMm1cHTIoDceYCsvw5nNO6G",
      "include_colab_link": true
    },
    "kernelspec": {
      "name": "python3",
      "display_name": "Python 3"
    },
    "language_info": {
      "name": "python"
    }
  },
  "cells": [
    {
      "cell_type": "markdown",
      "metadata": {
        "id": "view-in-github",
        "colab_type": "text"
      },
      "source": [
        "<a href=\"https://colab.research.google.com/github/jisu9414/Data-structure/blob/main/Linked%20list%3A%20searching%20data.ipynb\" target=\"_parent\"><img src=\"https://colab.research.google.com/assets/colab-badge.svg\" alt=\"Open In Colab\"/></a>"
      ]
    },
    {
      "cell_type": "code",
      "execution_count": null,
      "metadata": {
        "colab": {
          "base_uri": "https://localhost:8080/"
        },
        "id": "t7ouNonPki-s",
        "outputId": "85de3671-dd5b-40ec-d81d-d48c281f196c"
      },
      "outputs": [
        {
          "output_type": "stream",
          "name": "stdout",
          "text": [
            "search data: 1\n",
            "data(1) in Linked list\n",
            "data(1) exist in Node1\n",
            "search data: 2\n",
            "data(2) in Linked list\n",
            "data(2) exist in Node2\n",
            "search data: 8\n",
            "data(8) not in Linked list\n",
            "search data: 9\n",
            "data(9) not in Linked list\n"
          ]
        }
      ],
      "source": [
        "from __future__ import annotations\n",
        "from typing import Any, Type\n",
        "\n",
        "class Node:\n",
        "\n",
        "    def __init__(self, data: Any = None, next: Node = None):        #initialize\n",
        "        self.data = data\n",
        "        self.next = next\n",
        "  \n",
        "class LinkedList:               \n",
        "\n",
        "    def __init__(self) -> None:    \n",
        "        self.no = 0                 \n",
        "        self.head = None            \n",
        "        self.curent = None          \n",
        "\n",
        "    def __len__(self) -> int:\n",
        "        return self.no              \n",
        "    \n",
        "    def search(self, data: Any) -> int:                 # class_name.search(data)\n",
        "\n",
        "        cnt = 0\n",
        "        ptr = self.head                                 # head node부터 pointer 시작\n",
        "\n",
        "        while ptr is not None:                          # tail node는 pointer None이므로 종료\n",
        "            if ptr.data == data:                        # searching data와 node의 data가 같다면\n",
        "                self.current = ptr                      # 그 node ==> current로 주목할 node\n",
        "                return cnt                              # return cnt: Node index return( +1 해야 함)\n",
        "            cnt += 1                                            # searching data와 node date가 같지 않다면 cnt += 1\n",
        "            ptr = ptr.next                                      # 당시 node를 next로 넘김\n",
        "        return -1\n",
        "\n",
        "    def __contains__(self, data: Any) -> bool:              # contain일 때 True, not contain일 때 False로 return\n",
        "        return self.search(data) >= 0                       # data in class_name: main __contain__ 함수 사용시\n",
        "\n",
        "if __name__ == '__main__':\n",
        "    Ll = LinkedList()\n",
        "    head = Node(None, Ll.head)\n",
        "8\n",
        "    Ll.head = Node(1, Node(2, Node(3, Node(4, Node(4, None)))))\n",
        "\n",
        "    while True:\n",
        "        search_data = int(input('search data: '))\n",
        "\n",
        "        if search_data in Ll:\n",
        "            print(f'data({search_data}) in Linked list')\n",
        "            print(f'data({search_data}) exist in Node{Ll.search(search_data) + 1}')\n",
        "\n",
        "        else:\n",
        "            print(f'data({search_data}) not in Linked list')\n"
      ]
    }
  ]
}