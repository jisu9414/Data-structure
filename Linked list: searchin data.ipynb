{
  "nbformat": 4,
  "nbformat_minor": 0,
  "metadata": {
    "colab": {
      "name": "Untitled19.ipynb",
      "provenance": [],
      "collapsed_sections": [],
      "authorship_tag": "ABX9TyPb5DFoY4oa0XyZ7mGHKpxb",
      "include_colab_link": true
    },
    "kernelspec": {
      "name": "python3",
      "display_name": "Python 3"
    },
    "language_info": {
      "name": "python"
    }
  },
  "cells": [
    {
      "cell_type": "markdown",
      "metadata": {
        "id": "view-in-github",
        "colab_type": "text"
      },
      "source": [
        "<a href=\"https://colab.research.google.com/github/jisu9414/Data-structure/blob/main/Linked%20list%3A%20searchin%20data.ipynb\" target=\"_parent\"><img src=\"https://colab.research.google.com/assets/colab-badge.svg\" alt=\"Open In Colab\"/></a>"
      ]
    },
    {
      "cell_type": "code",
      "execution_count": null,
      "metadata": {
        "colab": {
          "base_uri": "https://localhost:8080/"
        },
        "id": "t7ouNonPki-s",
        "outputId": "f9fd042f-4857-4aa0-ff76-0665b9ee3095"
      },
      "outputs": [
        {
          "output_type": "stream",
          "name": "stdout",
          "text": [
            "search data: 1\n",
            "data(1) in Linked list: True\n",
            "data(1) exist in Node1\n",
            "search data: 7\n",
            "data: 7 in Linked list: False\n",
            "search data: 8\n",
            "data: 8 in Linked list: False\n"
          ]
        }
      ],
      "source": [
        "from __future__ import annotations\n",
        "from typing import Any, Type\n",
        "\n",
        "class Node:\n",
        "\n",
        "    def __init__(self, data: Any = None, next: Node = None):        #initialize\n",
        "        self.data = data\n",
        "        self.next = next\n",
        "  \n",
        "class LinkedList:               \n",
        "\n",
        "    def __init__(self) -> None:    \n",
        "        self.no = 0                 \n",
        "        self.head = None            \n",
        "        self.curent = None          \n",
        "\n",
        "    def __len__(self) -> int:\n",
        "        return self.no              \n",
        "    \n",
        "    def search(self, data: Any) -> int:\n",
        "        cnt = 0\n",
        "        ptr = self.head\n",
        "\n",
        "        while ptr is not None:\n",
        "            if ptr.data == data:\n",
        "                self.current = ptr\n",
        "                return cnt\n",
        "            cnt += 1\n",
        "            ptr = ptr.next\n",
        "        return -1\n",
        "\n",
        "    def __contains__(self, data: Any) -> bool:\n",
        "        return self.search(data) >= 0\n",
        "\n",
        "if __name__ == '__main__':\n",
        "    Ll = LinkedList()\n",
        "    head = Node(None, Ll.head)\n",
        "\n",
        "    Ll.head = Node(1, Node(2, Node(3, Node(4, Node(4, None)))))\n",
        "\n",
        "    while True:\n",
        "        search_data = int(input('search data: '))\n",
        "\n",
        "        if bool(search_data in Ll) == 1:\n",
        "            print(f'data({search_data}) in Linked list: {search_data in Ll}')\n",
        "            print(f'data({search_data}) exist in Node{Ll.search(search_data) + 1}')\n",
        "\n",
        "        else:\n",
        "            print(f'data: {search_data} in Linked list: {search_data in Ll}')\n"
      ]
    },
    {
      "cell_type": "code",
      "source": [
        "num = 2\n",
        "\n",
        "if num == 2:\n",
        "    print(1)\n",
        "    print(2)"
      ],
      "metadata": {
        "colab": {
          "base_uri": "https://localhost:8080/"
        },
        "id": "S4yoWrSnQz4K",
        "outputId": "19851aae-b166-4a5d-f42d-c1f1c452ceca"
      },
      "execution_count": 89,
      "outputs": [
        {
          "output_type": "stream",
          "name": "stdout",
          "text": [
            "1\n",
            "2\n"
          ]
        }
      ]
    }
  ]
}