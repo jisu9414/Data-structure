{
  "nbformat": 4,
  "nbformat_minor": 0,
  "metadata": {
    "colab": {
      "name": "Untitled21.ipynb",
      "provenance": [],
      "collapsed_sections": [],
      "authorship_tag": "ABX9TyMP6TTlxfz14RPcetzj9uO4",
      "include_colab_link": true
    },
    "kernelspec": {
      "name": "python3",
      "display_name": "Python 3"
    },
    "language_info": {
      "name": "python"
    }
  },
  "cells": [
    {
      "cell_type": "markdown",
      "metadata": {
        "id": "view-in-github",
        "colab_type": "text"
      },
      "source": [
        "<a href=\"https://colab.research.google.com/github/jisu9414/Data-structure/blob/main/Linked%20list%3A%20remove%20last%20data.ipynb\" target=\"_parent\"><img src=\"https://colab.research.google.com/assets/colab-badge.svg\" alt=\"Open In Colab\"/></a>"
      ]
    },
    {
      "cell_type": "code",
      "execution_count": null,
      "metadata": {
        "colab": {
          "base_uri": "https://localhost:8080/"
        },
        "id": "2ah9o6KW2Mgo",
        "outputId": "13333bcd-83ad-43bd-bcea-04c1313664c5"
      },
      "outputs": [
        {
          "output_type": "stream",
          "name": "stdout",
          "text": [
            "add data at last: 1\n",
            "[1] \n",
            "\n",
            "add data at last: 2\n",
            "[1, 2] \n",
            "\n",
            "add data at last: 3\n",
            "[1, 2, 3] \n",
            "\n",
            "add data at last: 4\n",
            "[1, 2, 3, 4] \n",
            "\n"
          ]
        }
      ],
      "source": [
        "from __future__ import annotations\n",
        "from typing import Any, Type\n",
        "\n",
        "class Node:\n",
        "\n",
        "    def __init__(self, data: Any = None, next: Node = None):        #initialize\n",
        "        self.data = data\n",
        "        self.next = next\n",
        "  \n",
        "class LinkedList:               \n",
        "\n",
        "    def __init__(self) -> None:    \n",
        "        self.no = 0                 \n",
        "        self.head = None            \n",
        "        self.current = None          \n",
        "\n",
        "    def print_all_data(self) -> Any:\n",
        "        all_data = []\n",
        "        ptr = self.head\n",
        "\n",
        "        while ptr is not None:\n",
        "            all_data.append(ptr.data)\n",
        "            ptr = ptr.next\n",
        "\n",
        "        return all_data\n",
        "\n",
        "    def add_first(self, data: Any) -> None:\n",
        "        ptr = self.head\n",
        "        self.head = self.current = Node(data, ptr)\n",
        "        self.no += 1\n",
        "\n",
        "    def add_last(self, data: Any) -> None:\n",
        "        if self.head is None:\n",
        "            self.add_first(data)\n",
        "        else:\n",
        "            ptr = self.head\n",
        "            while ptr.next is not None:                  \n",
        "                ptr = ptr.next\n",
        "            ptr.next = self.current = Node(data, None)    \n",
        "            self.no += 1\n",
        "\n",
        "    def remove_first(self) -> None:\n",
        "        if self.head is not None:\n",
        "            self.head = self.current = self.head.next\n",
        "        self.no -= 1\n",
        "\n",
        "    def remove_last(self) -> None:\n",
        "        if self.head is not None:\n",
        "            if self.head.next is None:\n",
        "                self.remove_first()\n",
        "            else:\n",
        "                ptr = self.head                 # ptr: head node에 pointer\n",
        "                pre = self.head                 # pre: pointer의 앞 Node\n",
        "\n",
        "                while ptr.next is not None:     # ptr is not None과 다름: 한번 덜 함 --> no = 4 일 때, pre = head.next.next가 되면 pre.next = head.next.next.next 이므로 종료 (3번 돌음) \n",
        "                    pre = ptr                       # ptr을 pre에 저장 후에 \n",
        "                    ptr = ptr.next                  # pre는 next 저장\n",
        "                \n",
        "                pre.next = None\n",
        "                self.current = pre              # pre를 current에 저장\n",
        "                self.no -= 1\n",
        "\n",
        "if __name__ == '__main__':\n",
        "    Ll = LinkedList()\n",
        "\n",
        "    while True:\n",
        "        add_data_last = int(input('add data at last: '))\n",
        "        Ll.add_last(add_data_last)\n",
        "        print(Ll.print_all_data(), '\\n')"
      ]
    },
    {
      "cell_type": "code",
      "source": [
        "print(f'Original linked list: {Ll.print_all_data()}', '\\n')\n",
        "Ll.remove_last()\n",
        "print(f'remove last data: {Ll.print_all_data()}', '\\n')"
      ],
      "metadata": {
        "colab": {
          "base_uri": "https://localhost:8080/"
        },
        "id": "kshcQJ7UEDzr",
        "outputId": "92109677-0c9f-44f9-9613-fefa5cb1b096"
      },
      "execution_count": 36,
      "outputs": [
        {
          "output_type": "stream",
          "name": "stdout",
          "text": [
            "Original linked list: [1, 2, 3, 4] \n",
            "\n",
            "remove last data: [1, 2, 3] \n",
            "\n"
          ]
        }
      ]
    }
  ]
}