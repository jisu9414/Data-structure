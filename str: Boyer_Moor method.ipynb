{
  "nbformat": 4,
  "nbformat_minor": 0,
  "metadata": {
    "colab": {
      "name": "Untitled18.ipynb",
      "provenance": [],
      "authorship_tag": "ABX9TyNGGEFWnmPgqDcVMrxRA9ZA",
      "include_colab_link": true
    },
    "kernelspec": {
      "name": "python3",
      "display_name": "Python 3"
    },
    "language_info": {
      "name": "python"
    }
  },
  "cells": [
    {
      "cell_type": "markdown",
      "metadata": {
        "id": "view-in-github",
        "colab_type": "text"
      },
      "source": [
        "<a href=\"https://colab.research.google.com/github/jisu9414/Data-structure/blob/main/str%3A%20Boyer_Moor%20method.ipynb\" target=\"_parent\"><img src=\"https://colab.research.google.com/assets/colab-badge.svg\" alt=\"Open In Colab\"/></a>"
      ]
    },
    {
      "cell_type": "code",
      "execution_count": 15,
      "metadata": {
        "id": "Q81w4K-ZMQ8p",
        "colab": {
          "base_uri": "https://localhost:8080/"
        },
        "outputId": "a3a91045-e8ca-4638-c024-7977d29df115"
      },
      "outputs": [
        {
          "output_type": "stream",
          "name": "stdout",
          "text": [
            "text: abadabac\n",
            "pattern: abac\n",
            "97\n",
            "98\n",
            "97\n",
            "99\n",
            "pattern exist in index5 of txt\n"
          ]
        }
      ],
      "source": [
        "def BM_match(txt: str, pattern: str) -> int:\n",
        "    skip = [None] * 256\n",
        "    for pt in range(256):\n",
        "        skip[pt] = len(pattern)\n",
        "         \n",
        "    for pt in range(len(pattern)):\n",
        "        skip[ord(pattern[pt])] = len(pattern) - pt - 1\n",
        "        print(ord(pattern[pt]))\n",
        "        \n",
        "    while pt < len(txt):\n",
        "       pp = len(pattern) - 1\n",
        "       while txt[pt] == pattern[pp]:\n",
        "           if pp == 0:\n",
        "               return pt\n",
        "           pt -= 1\n",
        "           pp -= 1\n",
        "       pt += skip[ord(txt[pt])] if skip[ord(txt[pt])] > len(pattern) - pp \\\n",
        "           else len(pattern) - pp\n",
        "\n",
        "    return -1\n",
        "\n",
        "if __name__ == '__main__':\n",
        "    s1 = input('text: ')\n",
        "    s2 = input('pattern: ')\n",
        "\n",
        "    idx = BM_match(s1, s2)\n",
        "\n",
        "    if idx == -1:\n",
        "        print('no pattern in txt')\n",
        "    else:\n",
        "        print(f'pattern exist in index{idx + 1} of txt')\n"
      ]
    }
  ]
}