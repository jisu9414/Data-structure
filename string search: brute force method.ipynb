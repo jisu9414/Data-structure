{
  "nbformat": 4,
  "nbformat_minor": 0,
  "metadata": {
    "colab": {
      "name": "Untitled17.ipynb",
      "provenance": [],
      "collapsed_sections": [],
      "authorship_tag": "ABX9TyPeBmBMVKFTue240MDjjG4i",
      "include_colab_link": true
    },
    "kernelspec": {
      "name": "python3",
      "display_name": "Python 3"
    },
    "language_info": {
      "name": "python"
    }
  },
  "cells": [
    {
      "cell_type": "markdown",
      "metadata": {
        "id": "view-in-github",
        "colab_type": "text"
      },
      "source": [
        "<a href=\"https://colab.research.google.com/github/jisu9414/Data-structure/blob/main/string%20search%3A%20brute%20force%20method.ipynb\" target=\"_parent\"><img src=\"https://colab.research.google.com/assets/colab-badge.svg\" alt=\"Open In Colab\"/></a>"
      ]
    },
    {
      "cell_type": "code",
      "execution_count": null,
      "metadata": {
        "colab": {
          "base_uri": "https://localhost:8080/"
        },
        "id": "eOCe5NAQ3UUf",
        "outputId": "2e77e36e-99ed-4372-f9b3-41a7b0ff7cc1"
      },
      "outputs": [
        {
          "output_type": "stream",
          "name": "stdout",
          "text": [
            "txt: abcdb\n",
            "pattern: db\n",
            "index4 is correct with pattern\n"
          ]
        }
      ],
      "source": [
        "def bf_match(txt: str, pat: str) -> int:\n",
        "    pt = 0      #pt: txt 커서\n",
        "    pp = 0      #pp: patern 커서\n",
        "    match = []\n",
        "\n",
        "    while pt != len(txt) and pp != len(pat):\n",
        "        if txt[pt] == pat[pp]:\n",
        "            pt += 1\n",
        "            pp += 1\n",
        "        else:\n",
        "            pt = pt - pp + 1\n",
        "            pp = 0\n",
        "    \n",
        "    return pt - pp if pp == len(pat) else -1\n",
        "\n",
        "\n",
        "if __name__ == '__main__':\n",
        "    s1 = input('txt: ')\n",
        "    s2 = input('pattern: ')\n",
        "\n",
        "    idx = bf_match(s1, s2)\n",
        "\n",
        "    if idx == -1:\n",
        "        print('no pattern in txt')\n",
        "    else:\n",
        "        print(f'index{(idx + 1)} is correct with pattern')"
      ]
    }
  ]
}