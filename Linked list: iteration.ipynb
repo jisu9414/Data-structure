{
  "cells": [
    {
      "cell_type": "markdown",
      "metadata": {
        "id": "view-in-github",
        "colab_type": "text"
      },
      "source": [
        "<a href=\"https://colab.research.google.com/github/jisu9414/Data-structure/blob/main/Linked%20list%3A%20iteration.ipynb\" target=\"_parent\"><img src=\"https://colab.research.google.com/assets/colab-badge.svg\" alt=\"Open In Colab\"/></a>"
      ]
    },
    {
      "cell_type": "code",
      "execution_count": null,
      "metadata": {
        "id": "2ah9o6KW2Mgo"
      },
      "outputs": [],
      "source": [
        "from __future__ import annotations\n",
        "from typing import Any, Type\n",
        "\n",
        "class Node:\n",
        "\n",
        "    def __init__(self, data: Any = None, next: Node = None):        #initialize\n",
        "        self.data = data\n",
        "        self.next = next\n",
        "  \n",
        "class LinkedList:               \n",
        "\n",
        "    def __init__(self) -> None:    \n",
        "        self.no = 0                 \n",
        "        self.head = None            \n",
        "        self.current = None          \n",
        "\n",
        "    def print_all_data(self) -> Any:\n",
        "        all_data = []\n",
        "        ptr = self.head\n",
        "        while ptr is not None:\n",
        "            all_data.append(ptr.data)\n",
        "            ptr = ptr.next\n",
        "        return all_data   \n",
        "\n",
        "    def add_first(self, data: Any) -> None:\n",
        "        ptr = self.head\n",
        "        self.head = self.current = Node(data, ptr)\n",
        "        self.no += 1\n",
        "\n",
        "    def add_last(self, data: Any) -> None:\n",
        "        if self.head is None:\n",
        "            self.add_first(data)\n",
        "        else:\n",
        "            ptr = self.head\n",
        "            while ptr.next is not None:                  \n",
        "                ptr = ptr.next\n",
        "            ptr.next = self.current = Node(data, None)    \n",
        "            self.no += 1     \n",
        "\n",
        "    def __iter__(self) -> LinkedListIterator:\n",
        "        return LinkedListIterator(self.head)\n",
        "\n",
        "class LinkedListIterator:\n",
        "    def __init__(self, head: Node):\n",
        "        self.current = head\n",
        "\n",
        "    def __iter__(self) -> LinkedListIterator:\n",
        "        return self\n",
        "    \n",
        "    def __next__(self) -> Any:\n",
        "        if self.current is None:\n",
        "            raise StopIteration\n",
        "        else:\n",
        "            data = self.current.data\n",
        "            self.current = self.current.next\n",
        "            return data\n",
        "\n",
        "if __name__ == '__main__':\n",
        "    Ll = LinkedList()\n",
        "\n",
        "    while True:\n",
        "        add_data_last = int(input('add data at last: '))\n",
        "        Ll.add_last(add_data_last)\n",
        "        print(Ll.print_all_data(), '\\n')"
      ]
    }
  ],
  "metadata": {
    "colab": {
      "collapsed_sections": [],
      "name": "Untitled21.ipynb",
      "provenance": [],
      "authorship_tag": "ABX9TyOkmgOH3eA5ujGK3qy9o5RQ",
      "include_colab_link": true
    },
    "kernelspec": {
      "display_name": "Python 3",
      "name": "python3"
    },
    "language_info": {
      "name": "python"
    }
  },
  "nbformat": 4,
  "nbformat_minor": 0
}