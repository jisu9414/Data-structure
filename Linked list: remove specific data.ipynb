{
  "cells": [
    {
      "cell_type": "markdown",
      "metadata": {
        "id": "view-in-github",
        "colab_type": "text"
      },
      "source": [
        "<a href=\"https://colab.research.google.com/github/jisu9414/Data-structure/blob/main/Linked%20list%3A%20remove%20specific%20data.ipynb\" target=\"_parent\"><img src=\"https://colab.research.google.com/assets/colab-badge.svg\" alt=\"Open In Colab\"/></a>"
      ]
    },
    {
      "cell_type": "code",
      "execution_count": null,
      "metadata": {
        "colab": {
          "base_uri": "https://localhost:8080/"
        },
        "id": "2ah9o6KW2Mgo",
        "outputId": "2cc59bd4-0e45-4174-c464-0c92ccfaca02"
      },
      "outputs": [
        {
          "output_type": "stream",
          "name": "stdout",
          "text": [
            "add data at last: 1\n",
            "[1] \n",
            "\n",
            "add data at last: 2\n",
            "[1, 2] \n",
            "\n",
            "add data at last: 3\n",
            "[1, 2, 3] \n",
            "\n",
            "add data at last: 4\n",
            "[1, 2, 3, 4] \n",
            "\n",
            "add data at last: 5\n",
            "[1, 2, 3, 4, 5] \n",
            "\n",
            "add data at last: 6\n",
            "[1, 2, 3, 4, 5, 6] \n",
            "\n"
          ]
        }
      ],
      "source": [
        "from __future__ import annotations\n",
        "from typing import Any, Type\n",
        "\n",
        "class Node:\n",
        "\n",
        "    def __init__(self, data: Any = None, next: Node = None):        #initialize\n",
        "        self.data = data\n",
        "        self.next = next\n",
        "  \n",
        "class LinkedList:               \n",
        "\n",
        "    def __init__(self) -> None:    \n",
        "        self.no = 0                 \n",
        "        self.head = None            \n",
        "        self.current = None          \n",
        "\n",
        "    def __len__(self) -> int:\n",
        "        return self.no           \n",
        "\n",
        "    def print_all_data(self) -> Any:\n",
        "        all_data = []\n",
        "        ptr = self.head\n",
        "        while ptr is not None:\n",
        "            all_data.append(ptr.data)\n",
        "            ptr = ptr.next\n",
        "        return all_data   \n",
        "\n",
        "    def add_first(self, data: Any) -> None:\n",
        "        ptr = self.head\n",
        "        self.head = self.current = Node(data, ptr)\n",
        "        self.no += 1\n",
        "\n",
        "    def add_last(self, data: Any) -> None:\n",
        "        if self.head is None:\n",
        "            self.add_first(data)\n",
        "        else:\n",
        "            ptr = self.head\n",
        "            while ptr.next is not None:                  \n",
        "                ptr = ptr.next\n",
        "            ptr.next = self.current = Node(data, None)    \n",
        "            self.no += 1     \n",
        "\n",
        "    def remove_first(self) -> None:\n",
        "        if self.head is not None:\n",
        "            self.head = self.current = self.head.next    \n",
        "        self.no -= 1\n",
        "\n",
        "    def remove(self, Node: Node) -> None:           # 삭제할 current Node 넣음\n",
        "        if self.head is not None:\n",
        "            if Node is self.head:\n",
        "                self.remove_first()\n",
        "            else:\n",
        "                ptr = self.head\n",
        "                while ptr.next is not Node:         # ptr.next == Node 위치 & ptr은 Node 하나 전\n",
        "                    ptr = ptr.next\n",
        "                    if ptr is None:\n",
        "                        return                      # ptr이 linked list에 안 존재\n",
        "                    \n",
        "                ptr.next = Node.next                # Node 다음이 Node자리로 오게 됨 -> 덧씌움\n",
        "                self.current = ptr                  # Node 하나 전을 current로 지정\n",
        "                self.no -= 1\n",
        "\n",
        "    def remove_current_node(self) -> None:\n",
        "        self.remove(self.current)               # self.current Node를 삭제 실행\n",
        "\n",
        "    def clear(self) -> None:                    # Node 전체 삭제\n",
        "        while self.head is not None:\n",
        "            self.remove_first()\n",
        "        self.current = None\n",
        "        self.no = 0\n",
        "\n",
        "    def next(self) -> bool:                                         #  current Node를 한칸 뒤 이동해\n",
        "        if self.current is None or self.current.next is None:       # 이동시 True return, 실패시 False return\n",
        "            return False\n",
        "        self.current = self.current.next\n",
        "        return True      \n",
        "    \n",
        "    def which_node(self, data: Any) -> Node:        \n",
        "        cnt = 0\n",
        "        ptr = self.head                      \n",
        "\n",
        "        while ptr is not None:         \n",
        "            if ptr.data == data:      \n",
        "                self.current = ptr   \n",
        "                return self.current           \n",
        "            cnt += 1                        \n",
        "            ptr = ptr.next           \n",
        "        return -1        \n",
        "\n",
        "if __name__ == '__main__':\n",
        "    Ll = LinkedList()\n",
        "\n",
        "    while True:\n",
        "        add_data_last = int(input('add data at last: '))\n",
        "        Ll.add_last(add_data_last)\n",
        "        print(Ll.print_all_data(), '\\n')"
      ]
    },
    {
      "cell_type": "code",
      "execution_count": 41,
      "metadata": {
        "colab": {
          "base_uri": "https://localhost:8080/"
        },
        "id": "kshcQJ7UEDzr",
        "outputId": "194400f2-7302-4cf3-b58c-0b452598882a"
      },
      "outputs": [
        {
          "output_type": "stream",
          "name": "stdout",
          "text": [
            "remove data: 3\n",
            "linked list(removed 3): [1, 2, 4, 5, 6] \n",
            "\n",
            "linked list(removed next of 3): [1, 2, 5, 6] \n",
            "\n"
          ]
        }
      ],
      "source": [
        "remove_data = int(input('remove data: '))\n",
        "Ll.current = Ll.which_node(remove_data)\n",
        "Ll.remove_current_node()\n",
        "print(f'linked list(removed {remove_data}): {Ll.print_all_data()}', '\\n')\n",
        "\n",
        "Ll.next()\n",
        "Ll.remove_current_node()\n",
        "print(f'linked list(removed next of {remove_data}): {Ll.print_all_data()}', '\\n')"
      ]
    },
    {
      "cell_type": "code",
      "source": [
        "print(Ll.clear(), '\\n')"
      ],
      "metadata": {
        "colab": {
          "base_uri": "https://localhost:8080/"
        },
        "id": "HvXpuMGNeRI1",
        "outputId": "5a058f3f-f668-4e37-bc19-44d889b83ee7"
      },
      "execution_count": 42,
      "outputs": [
        {
          "output_type": "stream",
          "name": "stdout",
          "text": [
            "None \n",
            "\n"
          ]
        }
      ]
    }
  ],
  "metadata": {
    "colab": {
      "collapsed_sections": [],
      "name": "Untitled21.ipynb",
      "provenance": [],
      "authorship_tag": "ABX9TyPBvuDQWkEfZY2GCy4vGZfb",
      "include_colab_link": true
    },
    "kernelspec": {
      "display_name": "Python 3",
      "name": "python3"
    },
    "language_info": {
      "name": "python"
    }
  },
  "nbformat": 4,
  "nbformat_minor": 0
}