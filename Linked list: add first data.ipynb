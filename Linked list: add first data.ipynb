{
  "nbformat": 4,
  "nbformat_minor": 0,
  "metadata": {
    "colab": {
      "name": "Untitled21.ipynb",
      "provenance": [],
      "collapsed_sections": [],
      "authorship_tag": "ABX9TyPiVwhiYR0MpBceDnYIsowq",
      "include_colab_link": true
    },
    "kernelspec": {
      "name": "python3",
      "display_name": "Python 3"
    },
    "language_info": {
      "name": "python"
    }
  },
  "cells": [
    {
      "cell_type": "markdown",
      "metadata": {
        "id": "view-in-github",
        "colab_type": "text"
      },
      "source": [
        "<a href=\"https://colab.research.google.com/github/jisu9414/Data-structure/blob/main/Linked%20list%3A%20add%20first%20data.ipynb\" target=\"_parent\"><img src=\"https://colab.research.google.com/assets/colab-badge.svg\" alt=\"Open In Colab\"/></a>"
      ]
    },
    {
      "cell_type": "code",
      "execution_count": null,
      "metadata": {
        "colab": {
          "base_uri": "https://localhost:8080/"
        },
        "id": "2ah9o6KW2Mgo",
        "outputId": "cfc314dd-ae41-418b-e1ef-79f922a7e730"
      },
      "outputs": [
        {
          "output_type": "stream",
          "name": "stdout",
          "text": [
            "add data at first: 1\n",
            "[1] \n",
            "\n",
            "add data at first: 3\n",
            "[3, 1] \n",
            "\n",
            "add data at first: 5\n",
            "[5, 3, 1] \n",
            "\n",
            "add data at first: 0\n",
            "[0, 5, 3, 1] \n",
            "\n"
          ]
        }
      ],
      "source": [
        "from __future__ import annotations\n",
        "from typing import Any, Type\n",
        "\n",
        "class Node:\n",
        "\n",
        "    def __init__(self, data: Any = None, next: Node = None):        #initialize\n",
        "        self.data = data\n",
        "        self.next = next\n",
        "  \n",
        "class LinkedList:               \n",
        "\n",
        "    def __init__(self) -> None:    \n",
        "        self.no = 0                 \n",
        "        self.head = None            \n",
        "        self.current = None          \n",
        "\n",
        "    def __len__(self) -> int:\n",
        "       return self.no \n",
        "\n",
        "    def print_all_data(self) -> Any:\n",
        "        all_data = []\n",
        "        ptr = self.head\n",
        "\n",
        "        while ptr is not None:\n",
        "            all_data.append(ptr.data)\n",
        "            ptr = ptr.next\n",
        "\n",
        "        return all_data\n",
        "\n",
        "    def add_first(self, data: Any) -> None:\n",
        "        ptr = self.head                                     # 현재 head pointer를 ptr에 저장\n",
        "        self.head = self.current = Node(data, ptr)          # 새로 만드는 Node(data, next가 ptr)인 pointer를 current에 저장 --> 한 것 head node로 지정\n",
        "        self.no += 1\n",
        "\n",
        "if __name__ == '__main__':\n",
        "\n",
        "    Ll = LinkedList()                                       # 빈 node 만들음\n",
        "\n",
        "    while True:\n",
        "        add_data_first = int(input('add data at first: '))\n",
        "        Ll.add_first(add_data_first)\n",
        "        print(Ll.print_all_data(), '\\n')"
      ]
    }
  ]
}