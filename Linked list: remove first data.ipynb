{
  "nbformat": 4,
  "nbformat_minor": 0,
  "metadata": {
    "colab": {
      "name": "Untitled19.ipynb",
      "provenance": [],
      "collapsed_sections": [],
      "authorship_tag": "ABX9TyNOsZu8ZojmVoF4tS7g10t9",
      "include_colab_link": true
    },
    "kernelspec": {
      "name": "python3",
      "display_name": "Python 3"
    },
    "language_info": {
      "name": "python"
    }
  },
  "cells": [
    {
      "cell_type": "markdown",
      "metadata": {
        "id": "view-in-github",
        "colab_type": "text"
      },
      "source": [
        "<a href=\"https://colab.research.google.com/github/jisu9414/Data-structure/blob/main/Linked%20list%3A%20remove%20data%20at%20first.ipynb\" target=\"_parent\"><img src=\"https://colab.research.google.com/assets/colab-badge.svg\" alt=\"Open In Colab\"/></a>"
      ]
    },
    {
      "cell_type": "code",
      "execution_count": 160,
      "metadata": {
        "colab": {
          "base_uri": "https://localhost:8080/"
        },
        "id": "t7ouNonPki-s",
        "outputId": "68c04154-590c-4cc4-edc3-481d311aedef"
      },
      "outputs": [
        {
          "output_type": "stream",
          "name": "stdout",
          "text": [
            "Original linked list: [1, 2, 3, 4] \n",
            "\n",
            "remove first data: [2, 3, 4] \n",
            "\n"
          ]
        }
      ],
      "source": [
        "from __future__ import annotations\n",
        "from typing import Any, Type\n",
        "\n",
        "class Node:\n",
        "\n",
        "    def __init__(self, data: Any = None, next: Node = None):        #initialize\n",
        "        self.data = data\n",
        "        self.next = next\n",
        "  \n",
        "class LinkedList:               \n",
        "\n",
        "    def __init__(self) -> None:    \n",
        "        self.no = 0                 \n",
        "        self.head = None            \n",
        "        self.curent = None          \n",
        "\n",
        "    def print_all_data(self) -> Any:\n",
        "        all_data = []\n",
        "        ptr = self.head\n",
        "\n",
        "        while ptr is not None:\n",
        "            all_data.append(ptr.data)\n",
        "            ptr = ptr.next\n",
        "\n",
        "        return all_data\n",
        "\n",
        "    def remove_first(self) -> None:\n",
        "        if self.head is not None:\n",
        "            self.head = self.current = self.head.next               # head.next를 head node에 덮어 씌우기\n",
        "        self.no -= 1\n",
        "\n",
        "if __name__ == '__main__':\n",
        "    Ll = LinkedList()\n",
        "\n",
        "    head = Node(None, Ll.head)\n",
        "    Ll.head = Node(1, Node(2, Node(3, Node(4, None))))\n",
        "\n",
        "    print(f'Original linked list: {Ll.print_all_data()}', '\\n')\n",
        "    Ll.remove_first()\n",
        "    print(f'remove first data: {Ll.print_all_data()}', '\\n')\n"
      ]
    }
  ]
}
