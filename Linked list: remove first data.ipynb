{
  "nbformat": 4,
  "nbformat_minor": 0,
  "metadata": {
    "colab": {
      "name": "Untitled21.ipynb",
      "provenance": [],
      "collapsed_sections": [],
      "authorship_tag": "ABX9TyM/9SZkURK3qZNTcVovVjo1",
      "include_colab_link": true
    },
    "kernelspec": {
      "name": "python3",
      "display_name": "Python 3"
    },
    "language_info": {
      "name": "python"
    }
  },
  "cells": [
    {
      "cell_type": "markdown",
      "metadata": {
        "id": "view-in-github",
        "colab_type": "text"
      },
      "source": [
        "<a href=\"https://colab.research.google.com/github/jisu9414/Data-structure/blob/main/Linked%20list%3A%20remove%20first%20data.ipynb\" target=\"_parent\"><img src=\"https://colab.research.google.com/assets/colab-badge.svg\" alt=\"Open In Colab\"/></a>"
      ]
    },
    {
      "cell_type": "code",
      "execution_count": null,
      "metadata": {
        "colab": {
          "base_uri": "https://localhost:8080/"
        },
        "id": "2ah9o6KW2Mgo",
        "outputId": "7a9412d4-20e2-40fd-fa67-1587d3cb667e"
      },
      "outputs": [
        {
          "output_type": "stream",
          "name": "stdout",
          "text": [
            "add data at last: 1\n",
            "[1] \n",
            "\n",
            "add data at last: 2\n",
            "[1, 2] \n",
            "\n",
            "add data at last: 3\n",
            "[1, 2, 3] \n",
            "\n",
            "add data at last: 4\n",
            "[1, 2, 3, 4] \n",
            "\n"
          ]
        }
      ],
      "source": [
        "from __future__ import annotations\n",
        "from typing import Any, Type\n",
        "\n",
        "class Node:\n",
        "    def __init__(self, data: Any = None, next: Node = None):        #initialize\n",
        "        self.data = data\n",
        "        self.next = next\n",
        "  \n",
        "class LinkedList:               \n",
        "    def __init__(self) -> None:    \n",
        "        self.no = 0                 \n",
        "        self.head = None            \n",
        "        self.current = None          \n",
        "\n",
        "    def print_all_data(self) -> Any:\n",
        "        all_data = []\n",
        "        ptr = self.head\n",
        "        while ptr is not None:\n",
        "            all_data.append(ptr.data)\n",
        "            ptr = ptr.next\n",
        "        return all_data\n",
        "\n",
        "    def add_first(self, data: Any) -> None:\n",
        "        ptr = self.head\n",
        "        self.head = self.current = Node(data, ptr)\n",
        "        self.no += 1\n",
        "\n",
        "    def add_last(self, data: Any) -> None:\n",
        "        if self.head is None:\n",
        "            self.add_first(data)\n",
        "        else:\n",
        "            ptr = self.head\n",
        "            while ptr.next is not None:                  \n",
        "                ptr = ptr.next\n",
        "            ptr.next = self.current = Node(data, None)    \n",
        "            self.no += 1\n",
        "\n",
        "    def remove_first(self) -> None:\n",
        "        if self.head is not None:\n",
        "            self.head = self.current = self.head.next    \n",
        "        self.no -= 1\n",
        "\n",
        "if __name__ == '__main__':\n",
        "    Ll = LinkedList()\n",
        "\n",
        "    while True:\n",
        "        add_data_last = int(input('add data at last: '))\n",
        "        Ll.add_last(add_data_last)\n",
        "        print(Ll.print_all_data(), '\\n')"
      ]
    },
    {
      "cell_type": "code",
      "source": [
        "print(f'Original linked list: {Ll.print_all_data()}', '\\n')\n",
        "Ll.remove_first()\n",
        "print(f'remove first data: {Ll.print_all_data()}', '\\n')"
      ],
      "metadata": {
        "colab": {
          "base_uri": "https://localhost:8080/"
        },
        "id": "Ja-nxqjpDblQ",
        "outputId": "e61636c1-e0bb-407e-e316-19cc1e18ce08"
      },
      "execution_count": 30,
      "outputs": [
        {
          "output_type": "stream",
          "name": "stdout",
          "text": [
            "Original linked list: [1, 2, 3, 4] \n",
            "\n",
            "remove first data: [2, 3, 4] \n",
            "\n"
          ]
        }
      ]
    }
  ]
}