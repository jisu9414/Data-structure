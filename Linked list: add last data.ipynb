{
  "nbformat": 4,
  "nbformat_minor": 0,
  "metadata": {
    "colab": {
      "name": "Untitled19.ipynb",
      "provenance": [],
      "collapsed_sections": [],
      "authorship_tag": "ABX9TyPEi+wQP04cQtF4xfGD28R4",
      "include_colab_link": true
    },
    "kernelspec": {
      "name": "python3",
      "display_name": "Python 3"
    },
    "language_info": {
      "name": "python"
    }
  },
  "cells": [
    {
      "cell_type": "markdown",
      "metadata": {
        "id": "view-in-github",
        "colab_type": "text"
      },
      "source": [
        "<a href=\"https://colab.research.google.com/github/jisu9414/Data-structure/blob/main/Linked%20list%3A%20add%20data%20at%20last.ipynb\" target=\"_parent\"><img src=\"https://colab.research.google.com/assets/colab-badge.svg\" alt=\"Open In Colab\"/></a>"
      ]
    },
    {
      "cell_type": "code",
      "execution_count": null,
      "metadata": {
        "colab": {
          "base_uri": "https://localhost:8080/"
        },
        "id": "t7ouNonPki-s",
        "outputId": "e82dc963-dc5a-4e97-8a23-b61d84f2d6f3"
      },
      "outputs": [
        {
          "output_type": "stream",
          "name": "stdout",
          "text": [
            "add data at last: 0\n",
            "[1, 2, 3, 4, 0] \n",
            "\n",
            "add data at last: 9\n",
            "[1, 2, 3, 4, 0, 9] \n",
            "\n",
            "add data at last: 1\n",
            "[1, 2, 3, 4, 0, 9, 1] \n",
            "\n"
          ]
        }
      ],
      "source": [
        "from __future__ import annotations\n",
        "from typing import Any, Type\n",
        "\n",
        "class Node:\n",
        "\n",
        "    def __init__(self, data: Any = None, next: Node = None):        #initialize\n",
        "        self.data = data\n",
        "        self.next = next\n",
        "  \n",
        "class LinkedList:               \n",
        "\n",
        "    def __init__(self) -> None:    \n",
        "        self.no = 0                 \n",
        "        self.head = None            \n",
        "        self.current = None          \n",
        "\n",
        "    def __len__(self) -> int:\n",
        "       return self.no \n",
        "\n",
        "    def print_all_data(self) -> Any:\n",
        "        all_data = []\n",
        "        ptr = self.head\n",
        "\n",
        "        while ptr is not None:\n",
        "            self.current = ptr\n",
        "            all_data.append(ptr.data)\n",
        "            ptr = ptr.next\n",
        "\n",
        "        return all_data\n",
        "\n",
        "    def add_first(self, data: Any) -> None:\n",
        "        ptr = self.head\n",
        "        self.head = self.current = Node(data, ptr)\n",
        "        self.no += 1\n",
        "\n",
        "    def add_last(self, data: Any) -> None:\n",
        "        if self.head is None:\n",
        "            self.add_first(data)\n",
        "        else:\n",
        "            ptr = self.head\n",
        "            while ptr.next is not None:                     # ptr.next로 tail.node까지 옮기고, ptr에 저장 \n",
        "                ptr = ptr.next\n",
        "            ptr.next = self.current = Node(data, None)      # ptr.next에 new data node add\n",
        "            self.no += 1\n",
        "\n",
        "\n",
        "if __name__ == '__main__':\n",
        "    Ll = LinkedList()\n",
        "\n",
        "    head = Node(None, Ll.head)\n",
        "    Ll.head = Node(1, Node(2, Node(3, Node(4, None))))\n",
        "\n",
        "    while True:\n",
        "        add_data_last = int(input('add data at last: '))\n",
        "        Ll.add_last(add_data_last)\n",
        "        print(Ll.print_all_data(), '\\n')\n"
      ]
    }
  ]
}
